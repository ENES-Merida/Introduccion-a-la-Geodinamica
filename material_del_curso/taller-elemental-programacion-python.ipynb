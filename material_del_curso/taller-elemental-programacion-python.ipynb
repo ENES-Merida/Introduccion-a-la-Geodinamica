{
 "cells": [
  {
   "cell_type": "markdown",
   "metadata": {},
   "source": [
    "<div style=\"text-align: center;\">\n",
    "    <img src=\"../imagenes_frontend/banner.png\" alt=\"Banner curso\" style=\"width:80%\">\n",
    "</div>\n"
   ]
  },
  {
   "cell_type": "markdown",
   "metadata": {},
   "source": [
    "<div style=\"display: flex; justify-content: center;\">\n",
    "    <h1>Taller Elemental de Programación con Python</h1>\n",
    "</div>\n",
    "\n",
    "## Temario\n",
    "\n",
    "1. Conceptos Fundamentales de la Programación e Introducción a Python.\n",
    "\n",
    "    1.1 Breve introducción a los lenguajes de programación.  \n",
    "    1.2 Tipos de datos: enteros, punto flotante, lógicas y cadenas de texto.  \n",
    "    1.3 Variables: asignación e inicialización.  \n",
    "    1.4 Convención para nombrar variables, funciones y archivos en python.  \n",
    "    1.5 Palabras reservadas.  \n",
    "    1.6 Escribamos nuestro primer programa.  \n",
    "\n",
    "2. Operadores\n",
    "\n",
    "    + Operadores aritméticos y orden de precedencia.\n",
    "    + Operadores de Asignación.\n",
    "    + Operadores de incremento y decremento.\n",
    "    + Operadores de relación e igualdad.\n",
    "    + Operadores lógicos.\n",
    "\n",
    "3. Estructuras de control\n",
    "\n",
    "    + Estructura secuencial.\n",
    "    + Estructura selectiva.\n",
    "    + Estructura iterativa.\n",
    "\n",
    "4. Funciones\n",
    "\n",
    "    + Creación y llamada de funciones\n",
    "    + Parámetros y argumentos.\n",
    "    + Paso de argumentos por valor y referencia.\n",
    "    + Recuperación de valores.\n",
    "    \n",
    "5. Estructura de datos\n",
    "\n",
    "    + Tipos de estructura de datos.\n",
    "    + Arreglos en python e introducción a Numpy: declaración y manipulación."
   ]
  },
  {
   "cell_type": "markdown",
   "metadata": {},
   "source": [
    "## 1. Conceptos Fundamentales de la Programación e Introducción a Python.\n",
    "\n",
    "### 1.1. Breve introducción a los lenguajes de programación.\n",
    "\n",
    "**El Proceso de Programación**\n",
    "> La programación es un proceso de resolución de problemas. Para resolver estos problemas se requieren técnicas diferentes que comprenden desde el análisis del problema, especificación de requisitos o requerimientos y las etapas de diseño denominadas algoritmos.\n",
    "\n",
    "**Lenguaje de Programación**\n",
    "> Un lenguaje de programación es un sistema formal de comunicación diseñado para expresar instrucciones que pueden ser entendidas y ejecutadas por una computadora. Estos lenguajes permiten a los programadores escribir programas, que son conjuntos de instrucciones que dictan cómo una máquina debe manipular datos.\n"
   ]
  },
  {
   "cell_type": "markdown",
   "metadata": {},
   "source": [
    "**Conceptos Claves en Programación:**\n",
    "\n",
    "- **Sintaxis:**\n",
    "\n",
    "- La sintaxis de un lenguaje de programación se refiere a las reglas y estructuras que se utilizan para escribir el código, siendo equivalente a las reglas gramaticales y de redacción que rigen a cada idioma.\n",
    "\n",
    "Por ejemplo, la sintaxis para definir una función en el lenguaje de programación Python es:\n",
    "```python\n",
    "# Sintaxis Python\n",
    "def suma(a, b):\n",
    "    return a + b\n",
    "```\n",
    "En el lenguaje de programación Java una función se define así:\n",
    "```\n",
    "// Sintaxis Java\n",
    "public int suma(int a, int b) {\n",
    "    return a + b;\n",
    "}\n",
    "```\n",
    "\n",
    "- **Expresión:**\n",
    "\n",
    "Una **expresión** es cualquier fragmento de código que produce un valor.\n",
    "- Puede estar compuesta de literales, variables, operadores o funciones.\n",
    "- Siempre tiene un resultado que puede usarse en otra parte.\n",
    "\n",
    "Ejemplos en Python:\n",
    "\n",
    "```python\n",
    "2 + 3          # produce 5\n",
    "\"hola\".upper() # produce \"HOLA\"\n",
    "x * 10         # depende de x, pero devuelve un valor\n",
    "```\n",
    "\n",
    "👉 En otras palabras: una expresión se evalúa → da un valor.\n",
    "\n",
    "- **Sentencia:**\n",
    "\n",
    "Una **sentencia** es una instrucción completa que el intérprete/compilador puede ejecutar.\n",
    "\n",
    "- No necesariamente devuelve un valor.\n",
    "- Puede usar expresiones dentro de sí.\n",
    "\n",
    "Ejemplos en Python:\n",
    "\n",
    "```python\n",
    "x = 2 + 3      # sentencia de asignación\n",
    "print(\"Hola\")  # sentencia que ejecuta una acción\n",
    "if x > 3:      # sentencia condicional\n",
    "    print(\"Mayor que 3\")\n",
    "```\n",
    "\n",
    "👉 Una sentencia se ejecuta → hace algo (asignar, imprimir, controlar flujo…).\n",
    "\n",
    "**Relación entre expresión y sentencia:**\n",
    "\n",
    "- Todas las expresiones pueden formar parte de sentencias.\n",
    "- Pero no todas las sentencias son expresiones.\n",
    "\n",
    "Ejemplo en Python:\n",
    "\n",
    "```python\n",
    "x = 5 + 2    # \"5 + 2\" es expresión, \"x = 5 + 2\" es sentencia\n",
    "```\n",
    "\n",
    "Incluso una sentencia puede estar compuesta por varias expresiones:\n",
    "```python\n",
    "y = max(a, b) * 10\n",
    "```\n",
    "\n",
    "donde:\n",
    "\n",
    "- `max(a, b)` es una expresión.\n",
    "\n",
    "- `max(a, b) * 10` también es una expresión.\n",
    "\n",
    "- `y = max(a, b) * 10` es la sentencia completa.\n"
   ]
  },
  {
   "cell_type": "markdown",
   "metadata": {},
   "source": [
    "**Paradigmas de Programación o estilos de programación:**\n",
    "\n",
    "- **Programación imperativa:** Especifica una secuencia de operaciones para realizar una tarea.\n",
    "\n",
    "- **Programación declarativa:** Describe qué se debe hacer, no cómo hacerlo.\n",
    "\n",
    "- **Programación orientada a objetos:** Organiza el código en objetos que tienen propiedades y comportamientos.\n",
    "\n",
    "- **Programación funcional:** Trata la computación como la evaluación de funciones matemáticas.\n"
   ]
  },
  {
   "cell_type": "markdown",
   "metadata": {},
   "source": [
    "**¿Cómo se ejecutan los lenguajes de Programación?**\n",
    "\n",
    "El proceso de traducción se le conoce como **compilación** y al software usado para traducir se le llama *compilador* o *interprete*, según sea el caso.\n",
    "\n",
    "Un **compilador** traduce el código de un lenguaje de programación de alto nivel a código máquina antes de que el programa se ejecute. Una función importante del compilador es informar de cualquier error en el programa fuente que detecte durante el proceso de compilación.\n",
    "\n",
    "Un **intérprete** traduce el código escrito en un lenguaje de programación de alto nivel a código máquina línea por línea a medida que se ejecuta el código. En caso de detectar un error mientras se ejecuta, interrumpe el programa y muestra información acerca del este."
   ]
  },
  {
   "cell_type": "markdown",
   "metadata": {},
   "source": [
    "**Lenguaje de Programación Python**\n",
    "\n",
    "La elección del lenguaje de programación puede depender de muchos factores, incluyendo el dominio de aplicación, las preferencias personales, el rendimiento requerido y la comunidad de soporte disponible. _Python_ es un lenguaje de programación de alto nivel que ha ganado una gran popularidad debido a su versatilidad, facilidad de uso y amplia gama de bibliotecas. Entre las principales ventajas de usar Python se encuentran:\n",
    "\n",
    "1. Sintaxis clara y legible.\n",
    "\n",
    "2. Gran comunidad y soporte.\n",
    "\n",
    "3. Versatilidad y portabilidad.\n",
    "\n",
    "4. Amplia gama de bibliotecas y frameworks.\n",
    "\n",
    "5. Código rápido y eficiente.\n",
    "\n",
    "6. Código robusto y escalable.\n",
    "\n",
    "7. Facilidad de aprendizaje.\n",
    "\n",
    "8. Amplia gama de aplicaciones:\n",
    "\n",
    "    - **Análisis de datos y ciencia de datos**\n",
    "    - Aprendizaje automático e inteligencia artificial\n",
    "    - Desarrollo web y aplicaciones web\n",
    "    - Desarrollo de escritorio\n",
    "    - **Automatización de tareas**\n",
    "    - Scripting y administración de sistemas\n",
    "    - Desarrollo de juegos\n",
    "    - Visualización de datos"
   ]
  },
  {
   "cell_type": "markdown",
   "metadata": {},
   "source": [
    "__Operadores aritméticos y orden de precedencia__\n",
    "\n",
    "Los operadores aritméticos se utilizan para realizar operaciones matemáticas básicas con números. \n",
    "\n",
    "<div style=\"display: flex; justify-content: center;\">\n",
    "\n",
    "| Operador | Operación | Ejemplo | Evalua a: |\n",
    "| :---: | :---: | :---: | :---: |\n",
    "| `**` |Exponente | `2**3` | `8` |\n",
    "| `%` | Módulo / residuo | `22 % 8` | `6` |\n",
    "| `//` | División Entera | `22 // 8` | `2` |\n",
    "| `/` | División | `22 / 8` | `2.75` |\n",
    "| `*` | Multiplicación | `3 * 8` | `24` |\n",
    "| `-` | Resta | `15 - 8` | `7` |\n",
    "| `+` | Suma | `42 + 8` | `50` |\n",
    "\n",
    "</div>"
   ]
  },
  {
   "cell_type": "markdown",
   "metadata": {},
   "source": [
    "En lenguajes de programación, el orden en que se evalúan estas operaciones está definido por la precedencia de los operadores. La precedencia dictamina qué operaciones se realizan primero y en qué orden.\n",
    "\n",
    "<div style=\"display: flex; justify-content: center;\">\n",
    "\n",
    "| Precendencia | Operador | Descripción | Asociatividad |\n",
    "| :---: | :---: | :---: | :---: |\n",
    "| 1 | **(expresion)** | Expresión entre paréntesis | Izquierda a derecha |\n",
    "| 2 | **\\*\\*** | Exponente | Izquierda a derecha |\n",
    "| 3 | **\\*, /, //, %** | Multiplicación, división, cociente y módulo | Izquierda a derecha |\n",
    "| 4 | **+, -** | Suma y resta | Izquierda a derecha |\n",
    "\n",
    "</div>"
   ]
  },
  {
   "cell_type": "code",
   "metadata": {
    "ExecuteTime": {
     "end_time": "2025-04-24T16:02:33.954636Z",
     "start_time": "2025-04-24T16:02:33.949744Z"
    }
   },
   "source": "4 + 6 * 3**2 - 34 / 8 - 12 % 7",
   "outputs": [
    {
     "data": {
      "text/plain": [
       "48.75"
      ]
     },
     "execution_count": 3,
     "metadata": {},
     "output_type": "execute_result"
    }
   ],
   "execution_count": 3
  },
  {
   "cell_type": "markdown",
   "metadata": {},
   "source": [
    "### 1.2. Tipos de datos: enteros, punto flotante, lógicas y cadenas de texto.\n",
    "\n",
    "Los tipos de datos son la base fundamental para organizar y manipular la información en los lenguajes de programación. Cierto tipo de dato define el tipo de valor que se puede manejar y las operaciones que se pueden realizar con ese tipo de dato.\n",
    "\n",
    "Los tipos de datos primitivos son los tipos de datos más básicos que ofrece un lenguaje de programación. Son indivisibles y solo pueden almacenar un único valor. Los tipos de datos primitivos más comunes incluyen:\n",
    "\n",
    "| Categoría | Tipo de Dato | Descripción |                  Ejemplos                   |\n",
    "| :---: | :---: | :--- |:-------------------------------------------:|\n",
    "| Tipo Numérico | Entero (int)| Números enteros positivos, negativos o cero. Comprende un rango de valores aproximadamente de -9,223,372,036,854,775,808 a 9,223,372,036,854,775,807. |            ```1, -10, 0, 200```             |\n",
    "| Tipo Numérico | Coma Flotante (float) | Números de punto flotante. Comprende un rango de valores aproximadamente de ±1.79769313486231570E+308 (precisión de 15-16 dígitos decimales). |       ```3.1416, -5.2, 10.0, 0.33```        |\n",
    "| Tipo Texto | Cadena de Texto (str) | Secuencias de caracteres. | ```\"Hola mundo\", \"Python es genial\", \"42\"``` | Suma total de caracteres |\n",
    "| Tipo booleano | Booleano (bool) | Valores de verdad o falso. |              ```True, False```              |\n"
   ]
  },
  {
   "cell_type": "markdown",
   "metadata": {},
   "source": "El significado de un operador puede cambiar en función de los tipos de datos de los valores que aparecen junto a él. Por ejemplo, `+` es el operador de suma cuando opera en dos enteros o valores de coma flotante."
  },
  {
   "metadata": {
    "ExecuteTime": {
     "end_time": "2025-09-05T18:38:19.459601Z",
     "start_time": "2025-09-05T18:38:19.454613Z"
    }
   },
   "cell_type": "code",
   "source": "4.6 + 7",
   "outputs": [
    {
     "data": {
      "text/plain": [
       "11.6"
      ]
     },
     "execution_count": 1,
     "metadata": {},
     "output_type": "execute_result"
    }
   ],
   "execution_count": 1
  },
  {
   "metadata": {},
   "cell_type": "markdown",
   "source": "Sin embargo, cuando `+` se utiliza sobre dos valores de cadena, une las cadenas como operador de concatenación de cadenas."
  },
  {
   "metadata": {},
   "cell_type": "code",
   "outputs": [
    {
     "data": {
      "text/plain": [
       "'HolaMateo!'"
      ]
     },
     "execution_count": 6,
     "metadata": {},
     "output_type": "execute_result"
    }
   ],
   "execution_count": 6,
   "source": "'Hola' + 'Mateo' + '!'"
  },
  {
   "cell_type": "markdown",
   "metadata": {},
   "source": "La expresión se evalúa hasta un único valor de cadena nuevo que junta el texto de las dos cadenas. Sin embargo, si intenta utilizar el operador `+` en una cadena y un valor entero, Python no sabrá cómo manejarlo y mostrará un mensaje de error:"
  },
  {
   "cell_type": "code",
   "execution_count": 7,
   "metadata": {},
   "outputs": [
    {
     "ename": "TypeError",
     "evalue": "can only concatenate str (not \"int\") to str",
     "output_type": "error",
     "traceback": [
      "\u001B[0;31m---------------------------------------------------------------------------\u001B[0m",
      "\u001B[0;31mTypeError\u001B[0m                                 Traceback (most recent call last)",
      "Cell \u001B[0;32mIn[7], line 1\u001B[0m\n\u001B[0;32m----> 1\u001B[0m \u001B[38;5;124m'\u001B[39m\u001B[38;5;124mHola\u001B[39m\u001B[38;5;124m'\u001B[39m \u001B[38;5;241m+\u001B[39m \u001B[38;5;241m34\u001B[39m\n",
      "\u001B[0;31mTypeError\u001B[0m: can only concatenate str (not \"int\") to str"
     ]
    }
   ],
   "source": [
    "'Hola' + 34"
   ]
  },
  {
   "cell_type": "markdown",
   "metadata": {},
   "source": [
    "El mensaje de error anterior es Python avisándote que si pensabas concatenar un número entero a una cadena de texto, el no puede realizar esta operación. Para que el lenguaje pueda llevar acabo una operación de este tipo habría que convertir, en el caso anterior, el número a una cadena de texto. Más adelante se verá como hacerlo."
   ]
  },
  {
   "cell_type": "markdown",
   "metadata": {},
   "source": [
    "### 1.3. Variables: asignación e inicialización\n",
    "\n",
    "Una _variable_ es como una caja en la memoria de la computadora donde se puede almacenar un único valor. Cuando evaluas un expresión y quieres usar su resultado en otro momento de tu programa, este se puede guardar en una variable."
   ]
  },
  {
   "cell_type": "markdown",
   "metadata": {},
   "source": [
    "**Asignación de una variable**\n",
    "\n",
    "La asignación de una variable consiste en asignar o guardar un valor en una variable. Esto se hace utilizando el operador de asignación `=` seguido del valor que se quiere almacenar, es decir, `variable = valor`. Por ejemplo:"
   ]
  },
  {
   "cell_type": "code",
   "metadata": {
    "ExecuteTime": {
     "end_time": "2025-09-05T18:41:22.499253Z",
     "start_time": "2025-09-05T18:41:22.496773Z"
    }
   },
   "source": [
    "valor = 46"
   ],
   "outputs": [],
   "execution_count": 2
  },
  {
   "cell_type": "code",
   "metadata": {
    "ExecuteTime": {
     "end_time": "2025-09-05T18:42:12.931295Z",
     "start_time": "2025-09-05T18:42:12.928499Z"
    }
   },
   "source": "print(valor)",
   "outputs": [
    {
     "name": "stdout",
     "output_type": "stream",
     "text": [
      "46\n"
     ]
    }
   ],
   "execution_count": 3
  },
  {
   "cell_type": "markdown",
   "metadata": {},
   "source": [
    "**Inicialización de una variable**\n",
    "\n",
    "La _inicialización de una variable_ es el proceso de **crear por primera vez** una variable asignándole un valor. Esto se puede hacer en la misma instrucción de declaración de la variable. Inicialicemos las dos siguientes variables:"
   ]
  },
  {
   "cell_type": "code",
   "metadata": {
    "ExecuteTime": {
     "end_time": "2025-09-05T18:43:20.513506Z",
     "start_time": "2025-09-05T18:43:20.511209Z"
    }
   },
   "source": [
    "valor1 = 45\n",
    "valor2 = 65"
   ],
   "outputs": [],
   "execution_count": 4
  },
  {
   "cell_type": "markdown",
   "metadata": {},
   "source": [
    "Después de inicializar una variable, puedes usarla dentro de una expresión en conjunto con otras variables, por ejemplo:"
   ]
  },
  {
   "cell_type": "code",
   "execution_count": 12,
   "metadata": {},
   "outputs": [
    {
     "data": {
      "text/plain": [
       "155"
      ]
     },
     "execution_count": 12,
     "metadata": {},
     "output_type": "execute_result"
    }
   ],
   "source": "valor1 + valor2 + valor1 # 45 + 65 + 45"
  },
  {
   "cell_type": "markdown",
   "metadata": {},
   "source": [
    "¿Qué sucede en la siguiente expresión?"
   ]
  },
  {
   "cell_type": "code",
   "execution_count": 13,
   "metadata": {},
   "outputs": [],
   "source": [
    "valor1 = valor1 + valor2"
   ]
  },
  {
   "cell_type": "markdown",
   "metadata": {},
   "source": "Cuando a una variable se le asigna un nuevo valor, el valor anterior que almacenaba es olvidado. Esto se conoce como _sobreescribir_ una variable. Observe este ejemplo:"
  },
  {
   "cell_type": "code",
   "metadata": {
    "ExecuteTime": {
     "end_time": "2025-09-05T18:47:05.798314Z",
     "start_time": "2025-09-05T18:47:05.796288Z"
    }
   },
   "source": [
    "spam = 'Hola'\n",
    "print(spam)"
   ],
   "outputs": [
    {
     "name": "stdout",
     "output_type": "stream",
     "text": [
      "Hola\n"
     ]
    }
   ],
   "execution_count": 5
  },
  {
   "cell_type": "code",
   "metadata": {
    "ExecuteTime": {
     "end_time": "2025-09-05T18:48:38.904446Z",
     "start_time": "2025-09-05T18:48:38.901795Z"
    }
   },
   "source": [
    "spam = 'Adios'\n",
    "print(spam)"
   ],
   "outputs": [
    {
     "name": "stdout",
     "output_type": "stream",
     "text": [
      "Adios\n"
     ]
    }
   ],
   "execution_count": 7
  },
  {
   "cell_type": "markdown",
   "metadata": {},
   "source": [
    "### 1.4. Convención para nombrar variables, funciones y archivos en python\n",
    "\n",
    "Nombrar adecuadamente a una variable permite saber con facilidad que dato contiene almacenado. Utilizar nombres descriptivos ayuda a que nuestro código sea facil de _leer_ y _entender_.\n",
    "\n",
    "A una variable se le puede nombrar de cualquier manera, pero Python tiene ciertas restricciones sobre los nombres de las variables. Mientras sigas las siguientes reglas, se puede nombrar a una variable de la mejor manera que consideremos:\n",
    "\n",
    "* El nombre de una variable tiene que ser sólo una palabra sin espacios.\n",
    "* Se pueden usar solamente letras, números y el caracter `_` para formar los nombres de las variables.\n",
    "* El nombre de una variable no puede empezar con un número.\n",
    "\n",
    "<div style=\"display: flex; justify-content: center;\">\n",
    "\n",
    "| Nombre de variables válidos | Nombre de variables No válidos |\n",
    "| --- | --- |\n",
    "| balance_actual | balance-actual (el guión `-` no es permitido) |\n",
    "| balanceActual | balance actual (los espacios no están permitidos) |\n",
    "| cuenta4 | 4cuenta (un nombre no puede empezar con un número) |\n",
    "| SUMA_TOTAL | \\$UMA_TOTAL (caracteres especiales como `$` no son permitidos) |\n",
    "| _45 (no recomendado, no es un nombre descriptivo) | 45_ (un nombre no puede empezar con un número) |\n",
    "| saludo | 'saludo' (caracteres especiales como `'` no están permitidos) |\n",
    "\n",
    "</div>\n",
    "\n",
    "El nombre de las variables son sensibles a mayúsculas y minúsculas, esto quiere decir que, `valor`, `VALOR`, `Valor` y `vAlOr` son cuatro diferentes variables. Un acuerdo en Python es, también en la mayoría de los lenguajes de programación, empezar el nombre de una variable con una letra en minúscula.\n",
    "\n",
    "El **snake case**, también conocido como **lowercase_with_underscores**, es una convención de nomenclatura utilizada en programación, en particular en Python, para nombrar variables, funciones y archivos. Consiste en escribir las palabras en minúsculas separadas por guiones bajos (__`_`__).\n",
    "\n",
    "Características principales del snake case:\n",
    "\n",
    "- *Mejora la legibilidad:* Al separar las palabras con guiones bajos, los nombres de variables largos son más fáciles de leer y comprender.\n",
    "\n",
    "- *Consistencia:* Usar snake case de manera consistente en todo tu código mejora la mantenibilidad del código y facilita que otros programadores lo entiendan.\n",
    "\n",
    "- *Convención común:* Snake case es una convención ampliamente utilizada en Python y muchos otros lenguajes de programación.\n",
    "\n",
    "Ejemplos de snake case, para nombres de variables:\n",
    "\n",
    "```python\n",
    "resultado_aproximado\n",
    "ventas_totales\n",
    "calcular_promedio\n",
    "```\n",
    "y para nombre de archivos:\n",
    "```\n",
    "mi_primer_programa_en_python.py\n",
    "```\n",
    "\n",
    "Las constantes en python (también en otros lenguajes de programación) se escriben en mayúsculas usando la convención **snake_case**. Por ejemplo:\n",
    "```python\n",
    "PI = 3.1416\n",
    "GRAVEDAD = 9.81\n",
    "```"
   ]
  },
  {
   "cell_type": "markdown",
   "metadata": {},
   "source": [
    "### 1.5 Palabras Reservadas\n",
    "\n",
    "En los lenguajes de programación existen ciertos nombres que no se pueden utilizar como identificadores debibo a que están restringidas porque forman parte de la estructura y de la sintaxis del lenguaje. En Python las palabras reservadas (_keywords_ en inglés) son:\n",
    "\n",
    "<div style=\"display: flex; justify-content: center;\">\n",
    "\n",
    "|||||\n",
    ":---:|:---:|:---:|:---:|\n",
    "|True|def|if|raise|\n",
    "|None|del|import|return|\n",
    "|False|elif|in|try|\n",
    "|and|else|is|while|\n",
    "|as|except|lambda|with|\n",
    "|assert|finally|nonlocal|yield|\n",
    "|break|for|not||\n",
    "|class|form|or||\n",
    "|continue|global|pass||\n",
    "\n",
    "</div>\n",
    "\n",
    "Estas palabras no se pueden utilizar para nombrar **variables**, **funciones** o **clases**."
   ]
  },
  {
   "cell_type": "markdown",
   "metadata": {},
   "source": [
    "### 1.6 Comentarios\n",
    "La siguiente línea es un _comentario_:\n",
    "```python\n",
    "# Este programa saluda y pregunta mi nombre.\n",
    "```\n",
    "Python, y cualquier otro lenguaje de programación, ignora los comentarios y se utilizan para describir lo que hace el código o para marcar recordatorios sobre que falta hacer en el código. Cualquier texto que vaya después del caracter `#` es parte del comentario y es ignorado por python, por ejemplo:\n",
    "```python\n",
    "print('¿Cuál es tu nombre?')            # Pregunta por tu nombre\n",
    "```\n",
    "\n",
    "Los comentarios también pueden ser utiles para comentar líneas de código que no deseamos utilizar en el momento pero que tampoco queremos borrar:"
   ]
  },
  {
   "metadata": {
    "ExecuteTime": {
     "end_time": "2025-09-05T21:03:33.563904Z",
     "start_time": "2025-09-05T21:03:33.561757Z"
    }
   },
   "cell_type": "code",
   "source": [
    "variable = 'Comentando líneas de código'\n",
    "# print(variable)"
   ],
   "outputs": [],
   "execution_count": 2
  },
  {
   "metadata": {},
   "cell_type": "markdown",
   "source": "Las líneas en blanco también son ignoradas por los lenguajes de programación y python no es la excepción. Se pueden agregar las líneas en blanco que sean necesarias con la finalidad de que el código sea más fácil de leer."
  },
  {
   "metadata": {},
   "cell_type": "markdown",
   "source": [
    "## 2. Funciones\n",
    "\n",
    "### Definición y llamada de funciones\n",
    "\n",
    "Las funciones son bloques de código con nombre **definidos** para realizar un trabajo específico. Cuando quieras realizar una tarea concreta que hayas definido en una función, *llama* a la función responsable de ella. Si necesitas realizar esa tarea varias veces a lo largo de tu programa, no necesitas escribir todo el código para la misma tarea una y otra vez; simplemente llamas a la función dedicada a manejar esa tarea, y la *llamada* le dice a Python que ejecute el código dentro de la función. El uso de funciones hace que tus programas sean más **fáciles de escribir, leer, probar y corregir**.\n",
    "\n",
    "En python la sintaxis para definir una función es:\n",
    "```python\n",
    "    def <nombre_de_la_función> (<Lista_de_parámetros>):\n",
    "        <bloque_de_código>\n",
    "```\n",
    "\n",
    "Así se define una función en el lenguaje de Rust:\n",
    "```rust\n",
    "    fn <nombre_de_la_función>(<Lista_de_parámetros>) -> <tipo_de_dato_de_retorno> {\n",
    "        <bloque_de_código>\n",
    "    }\n",
    "```\n",
    "Para el lenguaje de programación C se usa la siguiente sintaxis:\n",
    "```c\n",
    "    <tipo_de_dato_de_retorno> <nombre_de_la_función>(<lista_de_parámetros>)\n",
    "    {\n",
    "        <bloque_de_código>\n",
    "    }\n",
    "```"
   ]
  },
  {
   "metadata": {},
   "cell_type": "markdown",
   "source": [
    "### Parámetros y argumentos\n",
    "\n",
    "En programación, los **parámetros** y los **argumentos** son conceptos fundamentales para entender el funcionamiento de las funciones. Si bien están estrechamente relacionados, tienen roles y características distintivas.\n",
    "\n",
    "Parámetros: Los parámetros son las variables que se definen en la declaración de una función. Son como espacios reservados que esperan recibir valores cuando la función sea llamada. Se encuentran dentro de los paréntesis cuando se define la función.\n",
    "\n",
    "Argumentos: Los argumentos son los valores que se pasan a una función cuando esta es llamada. Son los valores que \"llenan\" los espacios reservados de los parámetros. Se colocan dentro de los paréntesis cuando se llama a la función."
   ]
  },
  {
   "metadata": {},
   "cell_type": "markdown",
   "source": [
    "\n",
    "\n",
    "__La función `print()`__\n",
    "\n",
    "Esta función muestra en la pantalla la cadena de texto que contiene dentro de sus paréntesis:"
   ]
  },
  {
   "metadata": {},
   "cell_type": "code",
   "outputs": [
    {
     "name": "stdout",
     "output_type": "stream",
     "text": [
      "¡Hola, Mundo!\n"
     ]
    }
   ],
   "execution_count": 2,
   "source": "print('¡Hola, Mundo!')"
  },
  {
   "metadata": {},
   "cell_type": "markdown",
   "source": [
    "> **Nota**\n",
    "> Observe que las comillas `' '` no se imprimen en pantalla, ellas se usan solo para delimitar donde empieza y termina la cadena de texto; no forman parte del texto.\n",
    "\n",
    "Cuando Python ejecuta la expresión anterior, se dice que _Python llama a la función `print()`_ y también se dice que *la candena de texto es pasada a la función*. Un valor o variable que es pasada a una función se le conoce como *argumento*."
   ]
  },
  {
   "metadata": {
    "ExecuteTime": {
     "end_time": "2025-09-05T21:28:38.890400Z",
     "start_time": "2025-09-05T21:28:38.887181Z"
    }
   },
   "cell_type": "code",
   "outputs": [
    {
     "name": "stdout",
     "output_type": "stream",
     "text": [
      "Es un gusto conocerte, Alfredo\n",
      "Es un gusto conocerte, Alfredo\n",
      "Es un gusto conocerte, Alfredo\n"
     ]
    }
   ],
   "execution_count": 5,
   "source": [
    "nombre = \"Alfredo\"\n",
    "print(\"Es un gusto conocerte, \" + nombre)\n",
    "print(\"Es un gusto conocerte, {}\".format(nombre))\n",
    "print(f\"Es un gusto conocerte, {nombre}\")"
   ]
  },
  {
   "metadata": {},
   "cell_type": "markdown",
   "source": "Usando el código anterior, intentemos que imprimir el siguiente texto: Hola \"<nombre>\", es un gusto conocerte."
  },
  {
   "metadata": {
    "ExecuteTime": {
     "end_time": "2025-09-05T22:06:56.442129Z",
     "start_time": "2025-09-05T22:06:56.439175Z"
    }
   },
   "cell_type": "code",
   "source": [
    "nombre = 'Alfredo'\n",
    "print(\"Hola \" + \"\"\" + nombre + \"\"\" + \", es un gusto conocerte.\")\n",
    "# print(\"Hola \"{}\\\", es un gusto conocerte.\".format(nombre))\n",
    "# print(f\"Hola \"{nombre}\", es un gusto conocerte.\")"
   ],
   "outputs": [
    {
     "name": "stdout",
     "output_type": "stream",
     "text": [
      "Hola  + nombre + , es un gusto conocerte.\n"
     ]
    }
   ],
   "execution_count": 33
  },
  {
   "metadata": {},
   "cell_type": "markdown",
   "source": [
    "Cómo buen estudiante de ciencias, deberías preguntarte: ¿Qué estará pasando?\n",
    "\n",
    "En Python (y en muchos lenguajes), escapar caracteres significa usar una secuencia especial para representar caracteres que de otra forma serían difíciles o imposibles de escribir directamente en un string.\n",
    "\n",
    "- ¿Por qué se escapan caracteres?\n",
    "\n",
    "    - Para escribir caracteres especiales que tienen un significado dentro de una cadena (ej. \", ', \\).\n",
    "\n",
    "    - Para incluir caracteres invisibles como salto de línea, tabulación, etc.\n",
    "\n",
    "    - Para representar caracteres usando códigos Unicode o ASCII.\n",
    "\n",
    "- Caracteres de escape más comunes en Python\n",
    "\n",
    "| Secuencia | Significado           |\n",
    "|-----------|-----------------------|\n",
    "| \\\\'       | Comilla simple        |\n",
    "| \\\\\"       | Comilla doble         |\n",
    "| \\ \\       | Barra invertida (\\\\)  |\n",
    "| \\\\n       | Salto de línea        |\n",
    "| \\\\t       | Tabulación            |\n",
    "\n",
    "| \\\\b       | Backspace (retroceso) |\n",
    "\n",
    "Sabiendo esto, podemos corregir el código anterior:"
   ]
  },
  {
   "metadata": {
    "ExecuteTime": {
     "end_time": "2025-09-05T22:10:30.111284Z",
     "start_time": "2025-09-05T22:10:30.108790Z"
    }
   },
   "cell_type": "code",
   "source": [
    "nombre = \"Alfredo\"\n",
    "print(\"Hola \" + \"\\\"\" + nombre + \"\\\"\" + \", es un gusto conocerte.\")\n",
    "print(\"Hola \\\"{}\\\", es un gusto conocerte.\".format(nombre))\n",
    "print(f\"Hola \\\"{nombre}\\\", es un gusto conocerte.\")"
   ],
   "outputs": [
    {
     "name": "stdout",
     "output_type": "stream",
     "text": [
      "Hola \"Alfredo\", es un gusto conocerte.\n",
      "Hola \"Alfredo\", es un gusto conocerte.\n",
      "Hola \"Alfredo\", es un gusto conocerte.\n"
     ]
    }
   ],
   "execution_count": 37
  },
  {
   "metadata": {},
   "cell_type": "markdown",
   "source": "Ejemplos de otros caracteres de escape:"
  },
  {
   "metadata": {
    "ExecuteTime": {
     "end_time": "2025-09-05T21:55:31.821874Z",
     "start_time": "2025-09-05T21:55:31.818776Z"
    }
   },
   "cell_type": "code",
   "source": [
    "# El salto de línea\n",
    "print(\"Esto es un\\nsalto de línea\")"
   ],
   "outputs": [
    {
     "name": "stdout",
     "output_type": "stream",
     "text": [
      "Esto es un\n",
      "salto de línea\n"
     ]
    }
   ],
   "execution_count": 20
  },
  {
   "metadata": {
    "ExecuteTime": {
     "end_time": "2025-09-05T21:55:18.660877Z",
     "start_time": "2025-09-05T21:55:18.658160Z"
    }
   },
   "cell_type": "code",
   "source": [
    "# Tabulador\n",
    "print(\"Esto es\\tun tabulador\")\n",
    "print(\"Esto es\\t\\tun tabulador\")\n",
    "print(\"Esto es\\t\\t\\tun tabulador\")"
   ],
   "outputs": [
    {
     "name": "stdout",
     "output_type": "stream",
     "text": [
      "Esto es\tun tabulador\n",
      "Esto es\t\tun tabulador\n",
      "Esto es\t\t\tun tabulador\n"
     ]
    }
   ],
   "execution_count": 19
  },
  {
   "metadata": {
    "ExecuteTime": {
     "end_time": "2025-09-05T21:58:47.371908Z",
     "start_time": "2025-09-05T21:58:47.369520Z"
    }
   },
   "cell_type": "code",
   "source": [
    "# Backspace\n",
    "print(\"Este texto es muy largo\")\n",
    "print(\"Este texto es \\bmuy largo\")\n",
    "print(\"Este texto es\\bmuy largo\")\n",
    "print(\"Este texto es\\b\\bmuy largo\")\n",
    "print(\"Este texto es\\b\\b\\bmuy largo\")\n"
   ],
   "outputs": [
    {
     "name": "stdout",
     "output_type": "stream",
     "text": [
      "Este texto es muy largo\n",
      "Este texto esmuy largo\n",
      "Este texto emuy largo\n",
      "Este texto muy largo\n",
      "Este textomuy largo\n"
     ]
    }
   ],
   "execution_count": 26
  },
  {
   "metadata": {},
   "cell_type": "markdown",
   "source": "**Definamos funciones hechas por el usuario**"
  },
  {
   "metadata": {
    "ExecuteTime": {
     "end_time": "2025-09-05T22:12:26.834265Z",
     "start_time": "2025-09-05T22:12:26.830514Z"
    }
   },
   "cell_type": "code",
   "source": [
    "# Ejemplo de definición de funciones\n",
    "import math\n",
    "\n",
    "def funcion_para_saludar():\n",
    "    print(\"Hola chicos de ambientales, soy una función\")\n",
    "\n",
    "def funcion_para_saludar_con_argumentos(pon_tu_nombre_aqui):\n",
    "    print(f\"Muchos gusto {pon_tu_nombre_aqui}, te saluda una función\")\n",
    "\n",
    "def calcular_hipotenusa(cateto_a, cateto_b):\n",
    "    hipotenusa = math.sqrt((cateto_a ** 2) + (cateto_b ** 2))\n",
    "    print(f\"La hipotenusa es: {hipotenusa}\")"
   ],
   "outputs": [],
   "execution_count": 39
  },
  {
   "metadata": {
    "ExecuteTime": {
     "end_time": "2025-09-05T22:12:27.487130Z",
     "start_time": "2025-09-05T22:12:27.484802Z"
    }
   },
   "cell_type": "code",
   "source": [
    "funcion_para_saludar()\n",
    "funcion_para_saludar_con_argumentos(\"Edwin\")\n",
    "calcular_hipotenusa(5, 3)"
   ],
   "outputs": [
    {
     "name": "stdout",
     "output_type": "stream",
     "text": [
      "Hola chicos de ambientales, soy una función\n",
      "Muchos gusto Edwin, te saluda una función\n",
      "La hipotenusa es: 5.830951894845301\n"
     ]
    }
   ],
   "execution_count": 40
  },
  {
   "metadata": {},
   "cell_type": "markdown",
   "source": [
    "### Recuperación de valores\n",
    "\n",
    "Una función no siempre tiene que mostrar su salida directamente. En su lugar, puede procesar algunos datos y luego devolver un valor o conjunto de valores. El valor que devuelve la función se denomina **valor de retorno**. La sentencia ```return``` toma un valor del interior de una función y lo devuelve a la línea que llamó a la función. Los valores de retorno le permiten mover gran parte del trabajo pesado de su programa a las funciones, lo que puede simplificar el cuerpo de su programa.\n",
    "\n",
    "Cuando se llama a una función que devuelve un valor, es necesario proporcionar una variable a la que se pueda asignar el valor devuelto."
   ]
  },
  {
   "metadata": {},
   "cell_type": "code",
   "outputs": [],
   "execution_count": 63,
   "source": [
    "def obtener_saludo():\n",
    "    saludo = \"Hola chicos de la ENES, soy una función\"\n",
    "    return saludo\n",
    "\n",
    "def obtener_saludo_para(nombre):\n",
    "    saludo = f\"Muchos gusto {nombre}, te saluda una función\"\n",
    "    return saludo\n",
    "\n",
    "def obtener_terna_pitagorica(numero_natural_1, numero_natural_2):\n",
    "    valor_a = math.pow(numero_natural_1, 2) - math.pow(numero_natural_2, 2)\n",
    "    valor_b = 2.0 * numero_natural_1 * numero_natural_2\n",
    "    valor_c = math.pow(numero_natural_1, 2) + math.pow(numero_natural_2, 2)\n",
    "    return valor_a, valor_b, valor_c"
   ]
  },
  {
   "metadata": {},
   "cell_type": "code",
   "outputs": [
    {
     "name": "stdout",
     "output_type": "stream",
     "text": [
      "Hola chicos de la ENES, soy una función\n"
     ]
    }
   ],
   "execution_count": 64,
   "source": [
    "saludo_obtenido = obtener_saludo()\n",
    "print(saludo_obtenido)"
   ]
  },
  {
   "metadata": {},
   "cell_type": "code",
   "outputs": [
    {
     "name": "stdout",
     "output_type": "stream",
     "text": [
      "Muchos gusto Andrea, te saluda una función\n"
     ]
    }
   ],
   "execution_count": 65,
   "source": [
    "saludo_especial = obtener_saludo_para(\"Andrea\")\n",
    "print(saludo_especial)"
   ]
  },
  {
   "metadata": {},
   "cell_type": "code",
   "outputs": [
    {
     "name": "stdout",
     "output_type": "stream",
     "text": [
      "La terna pitagórica formada por los números naturales 5 y 3 es\n",
      "(16.0, 30.0, 34.0)\n"
     ]
    }
   ],
   "execution_count": 66,
   "source": [
    "numero_natural_1 = 5\n",
    "numero_natural_2 = 3\n",
    "valor_1, valor_2, valor_3 = obtener_terna_pitagorica(numero_natural_1, numero_natural_2)\n",
    "\n",
    "print(f\"La terna pitagórica formada por los números naturales {numero_natural_1} y {numero_natural_2} es\")\n",
    "print(f\"({valor_1}, {valor_2}, {valor_3})\")"
   ]
  },
  {
   "cell_type": "markdown",
   "metadata": {},
   "source": [
    "## 3. Estructuras de Control\n",
    "\n",
    "Las estructuras de control son bloques de código que permiten controlar el flujo de ejecución de un programa.\n",
    "\n",
    "Las estructuras de control son esenciales para la programación, ya que permiten:\n",
    "\n",
    "- **Modularizar el código:** Dividir el programa en bloques más pequeños y manejables, mejorando la legibilidad y el mantenimiento del código.\n",
    "- **Tomar decisiones:** Permitir al programa responder a diferentes condiciones y situaciones.\n",
    "- **Repetir tareas:** Automatizar la ejecución de tareas repetitivas, ahorrando tiempo y esfuerzo.\n",
    "- **Crear algoritmos complejos:** Combinando diferentes estructuras de control, se pueden crear algoritmos sofisticados para resolver problemas complejos.\n",
    "\n",
    "### Estructuras secuenciales:\n",
    "\n",
    "Las estructuras secuenciales, también conocidas como instrucciones lineales, ejecutan las instrucciones una tras otra en un orden descendente. Es la forma más básica de controlar el flujo del programa. La sintaxis básica es la siguiente:\n",
    "\n",
    "```algorithm\n",
    "    begin\n",
    "        <Instrucción_1>\n",
    "        <Instrucción_2>\n",
    "        <Instrucción_3>\n",
    "              .\n",
    "              .\n",
    "              .\n",
    "        <Instrucción_n>\n",
    "    end\n",
    "```\n",
    "\n",
    "En en lenguaje de programación FORTRAN se usa la siguiente sintaxis:\n",
    "```fortran\n",
    "    PROGRAM <nombre_del_programa>\n",
    "        <Instrucción_1>\n",
    "        <Instrucción_2>\n",
    "        <Instrucción_3>\n",
    "              .\n",
    "              .\n",
    "              .\n",
    "        <Instrucción_n>\n",
    "    END PROGRAM\n",
    "```\n",
    "Python no usa sentencias especiales para delimitar sus estructuras secuenciales."
   ]
  },
  {
   "cell_type": "code",
   "execution_count": 43,
   "metadata": {},
   "outputs": [
    {
     "name": "stdout",
     "output_type": "stream",
     "text": [
      "El área del círculo de radio = 6.4 es igual a 128.67993600000003\n"
     ]
    }
   ],
   "source": [
    "# Ejemplo en python:\n",
    "\n",
    "PI = 3.1416     #! Constantes en mayúsculas\n",
    "radio = 6.4\n",
    "radio_cuadrado = radio**2\n",
    "area_circulo = PI * radio_cuadrado\n",
    "print(f\"El área del círculo de radio = {radio} es igual a {area_circulo}\")"
   ]
  },
  {
   "cell_type": "markdown",
   "metadata": {},
   "source": [
    "### Estructuras selectivas\n",
    "\n",
    "Las estructuras **selectivas**, también conocidas como **condicionales**, permiten al programa tomar decisiones en función de una o más condiciones. Permiten ejecutar diferentes bloques de código según el resultado de la evaluación de la condición.\n",
    "\n",
    "Las estructuras selectivas más comunes son:\n",
    "\n",
    "- Instrucción **if**: Evalúa una condición y ejecuta un bloque de código si la condición es verdadera. La sintaxis es la siguiente:\n",
    "\n",
    "```\n",
    "    if <condición> then\n",
    "        <bloque_de_código>\n",
    "    endIf\n",
    "```\n",
    "\n",
    "La estructura ```if``` en el lenguaje de programación C se escribe como:\n",
    "```c\n",
    "    if (<condición>)\n",
    "    {\n",
    "        <bloque_de_código>\n",
    "    }\n",
    "```\n",
    "La sintaxis en python es:\n",
    "\n",
    "```python\n",
    "if <condición>:\n",
    "    <bloque_de_código>\n",
    "```"
   ]
  },
  {
   "cell_type": "code",
   "execution_count": 44,
   "metadata": {},
   "outputs": [
    {
     "name": "stdout",
     "output_type": "stream",
     "text": [
      "Hasta luego.\n",
      "Se ejecutan otras instrucciones...\n"
     ]
    }
   ],
   "source": [
    "comando = \"salir\"\n",
    "CODIGO_DE_SALIDA = \"salir\"\n",
    "\n",
    "if comando == CODIGO_DE_SALIDA:\n",
    "    print(\"Hasta luego.\")\n",
    "\n",
    "print(\"Se ejecutan otras instrucciones...\")"
   ]
  },
  {
   "cell_type": "markdown",
   "metadata": {},
   "source": [
    "- Instrucción **if - else**: Evalúa una condición y ejecuta un bloque de código si la condición es verdadera, y otro bloque de código si la condición es falsa. Su sintaxis general es la siguiente:\n",
    "\n",
    "```algorithm\n",
    "    if <condición> then\n",
    "        <bloque de código 1>\n",
    "    else\n",
    "        <bloque de código 2>\n",
    "    endIf\n",
    "```\n",
    "\n",
    "La sintaxis para python es:\n",
    "```python\n",
    "    if <condición>:\n",
    "        <bloque de código 1>\n",
    "    else:\n",
    "        <bloque de código 2>\n",
    "```"
   ]
  },
  {
   "cell_type": "code",
   "execution_count": 45,
   "metadata": {},
   "outputs": [
    {
     "name": "stdout",
     "output_type": "stream",
     "text": [
      "Aún no eres mayor de edad.\n",
      "Se ejecutan otras instrucciones...\n"
     ]
    }
   ],
   "source": [
    "edad = 13\n",
    "EDAD_PARA_VOTAR = 18\n",
    "\n",
    "if edad >= EDAD_PARA_VOTAR:\n",
    "    print(\"Ya puedes tramitar tu INE.\")\n",
    "else:\n",
    "    print(\"Aún no eres mayor de edad.\")\n",
    "\n",
    "print(\"Se ejecutan otras instrucciones...\")"
   ]
  },
  {
   "cell_type": "markdown",
   "metadata": {},
   "source": [
    "- Instrucción **if - elif - else**: Evalúa una o más condiciones y ejecuta el bloque de código correspondiente si la condición es verdadera, o evalúa el bloque de código **else** si ninguna de las condiciones anteriores se cumplió. La sintaxis general es la siguiente:\n",
    "\n",
    "```algorithm\n",
    "    if <condición> then\n",
    "        <bloque de código 1>\n",
    "    else if <condición> then\n",
    "        <bloque de código 2>\n",
    "    else if <condición> then\n",
    "        <bloque de código 3>\n",
    "                .\n",
    "                .\n",
    "                .\n",
    "    else\n",
    "        <bloque de código n>\n",
    "    endIf\n",
    "```\n",
    "\n",
    "La sintaxis que utiliza python es:\n",
    "\n",
    "```python\n",
    "    if condicion:\n",
    "        <bloque de código 1>\n",
    "    elif:\n",
    "        <bloque de código 2>\n",
    "    elif:\n",
    "        <bloque de código 3>\n",
    "                .\n",
    "                .\n",
    "                .\n",
    "    else:\n",
    "        <bloque de código n>\n",
    "```"
   ]
  },
  {
   "cell_type": "code",
   "execution_count": 46,
   "metadata": {},
   "outputs": [
    {
     "name": "stdout",
     "output_type": "stream",
     "text": [
      "Tu costo de admisión es de $15 pesos.\n"
     ]
    }
   ],
   "source": [
    "edad = 66\n",
    "costo_boleto = 0\n",
    "\n",
    "if edad < 14:\n",
    "    costo_boleto = 5\n",
    "elif edad < 18:\n",
    "    costo_boleto = 10\n",
    "elif edad < 65:\n",
    "    costo_boleto = 20\n",
    "else:\n",
    "    costo_boleto = 15\n",
    "\n",
    "print(f\"Tu costo de admisión es de ${costo_boleto} pesos.\")"
   ]
  },
  {
   "cell_type": "markdown",
   "metadata": {},
   "source": [
    "### Estructuras Iterativas en Python\n",
    "\n",
    "Las estructuras iterativas, también conocidas como **bucles** o **ciclos**, son bloques de código que permiten repetir un conjunto de instrucciones un número determinado de veces o hasta que se cumpla una condición. Son herramientas fundamentales para automatizar tareas repetitivas y crear algoritmos complejos.\n",
    "\n",
    "Tipos de estructuras iterativas:\n",
    "\n",
    "- Bucle **while**:\n",
    "\n",
    "El bucle while se utiliza para repetir un bloque de código mientras se cumpla una condición. La sintaxis básica del bucle while es la siguiente:\n",
    "\n",
    "```algoritmos\n",
    "    while <condición> do\n",
    "        <bloque de código>\n",
    "    endWhile\n",
    "```\n",
    "La sintaxis del ciclo **while** en Python es:\n",
    "```python\n",
    "    while <condición>:\n",
    "        <bloque de código>\n"
   ]
  },
  {
   "cell_type": "code",
   "execution_count": 47,
   "metadata": {},
   "outputs": [
    {
     "name": "stdout",
     "output_type": "stream",
     "text": [
      "1\n",
      "2\n",
      "3\n",
      "4\n",
      "5\n",
      "6\n",
      "7\n",
      "8\n",
      "9\n"
     ]
    }
   ],
   "source": [
    "i = 1\n",
    "\n",
    "while i < 10:\n",
    "    print(i)\n",
    "    i += 1      #! La condición de salida es importante"
   ]
  },
  {
   "cell_type": "markdown",
   "metadata": {},
   "source": [
    "Todo bucle while necesita una forma de dejar de ejecutarse para que no siga ejecutándose eternamente. Todo programador escribe accidentalmente un bucle while infinito de vez en cuando, especialmente cuando los bucles de un programa tienen sutiles condiciones de salida. Si su programa se queda atascado en un bucle infinito, pulse ```CTRL-C``` o simplemente cierre la ventana del terminal que muestra la salida de su programa. \n",
    "\n",
    "Para evitar escribir bucles infinitos, prueba cada bucle while y asegúrate de que el bucle se detiene cuando esperas que lo haga. Si el programa no termina, escudriñe la forma en que su programa maneja el valor que debería causar la salida del bucle. Asegúrese de que al menos una parte del programa puede hacer que la condición del bucle sea ```False```."
   ]
  },
  {
   "cell_type": "code",
   "execution_count": 48,
   "metadata": {},
   "outputs": [
    {
     "name": "stdout",
     "output_type": "stream",
     "text": [
      "exit\n"
     ]
    }
   ],
   "source": [
    "console = \"\\nDime algo, te lo voy a repetir:\"\n",
    "console += \"\\nEscribe 'exit' para salir de la aplicación. \"\n",
    "message = \"\"\n",
    "while message != 'exit':\n",
    "    message = input(console)\n",
    "    print(message)"
   ]
  },
  {
   "cell_type": "markdown",
   "metadata": {},
   "source": [
    "#### Sentencia ```break```\n",
    "\n",
    "Para salir de un bucle while inmediatamente sin ejecutar ningún código restante en el bucle, independientemente de los resultados de cualquier prueba condicional, utilice la sentencia ```break```. La sentencia ```break``` dirige el flujo de tu programa dentro del bucle; puedes usarla para controlar qué líneas de código se ejecutan y cuáles no, de forma que el programa sólo ejecute el código que tú quieras, cuando tú quieras."
   ]
  },
  {
   "cell_type": "code",
   "execution_count": 49,
   "metadata": {},
   "outputs": [
    {
     "name": "stdout",
     "output_type": "stream",
     "text": [
      "1\n",
      "2\n",
      "3\n"
     ]
    }
   ],
   "source": [
    "i = 1\n",
    "\n",
    "while i < 10:\n",
    "\n",
    "    if i % 4 == 0:\n",
    "        break\n",
    "\n",
    "    print(i)\n",
    "    i += 1 "
   ]
  },
  {
   "cell_type": "code",
   "execution_count": 50,
   "metadata": {},
   "outputs": [
    {
     "name": "stdout",
     "output_type": "stream",
     "text": [
      "10\n"
     ]
    }
   ],
   "source": [
    "console = \"\\nEjemplo de uso de la sentencia break.\"\n",
    "console += \"\\nEnter a integer number. \"\n",
    "\n",
    "while True:\n",
    "    number = int(input(console))\n",
    "    print(number)\n",
    "    if number == 10:\n",
    "        break"
   ]
  },
  {
   "cell_type": "code",
   "execution_count": 51,
   "metadata": {},
   "outputs": [],
   "source": [
    "console = \"\\nPlease enter the name of a city you have visited:\"\n",
    "console += \"\\n(Enter 'exit' when you are finished.) \"\n",
    "\n",
    "while True:\n",
    "    city = input(console)\n",
    "    if city == 'exit':\n",
    "        break\n",
    "    else:\n",
    "        print(f\"I'd love to go to {city.title()}!\")"
   ]
  },
  {
   "cell_type": "markdown",
   "metadata": {},
   "source": [
    "#### Sentencia ```continue```\n",
    "\n",
    "En lugar de salir completamente de un bucle sin ejecutar el resto de su código, puede utilizar la sentencia ```continue``` para volver al principio del bucle, basándose en el resultado de una prueba condicional."
   ]
  },
  {
   "cell_type": "code",
   "execution_count": 52,
   "metadata": {},
   "outputs": [
    {
     "name": "stdout",
     "output_type": "stream",
     "text": [
      "1\n",
      "2\n",
      "3\n",
      "5\n",
      "6\n",
      "7\n",
      "9\n",
      "10\n"
     ]
    }
   ],
   "source": [
    "i = 0\n",
    "\n",
    "while i < 10:\n",
    "\n",
    "    i += 1 \n",
    "\n",
    "    if i % 4 == 0:\n",
    "        continue\n",
    "\n",
    "    print(i)\n"
   ]
  },
  {
   "cell_type": "markdown",
   "metadata": {},
   "source": [
    "- Bucle **for**:\n",
    "\n",
    "El bucle ```for``` se utiliza para repetir un bloque de código un número determinado de veces, especificado por una secuencia o un rango. La sintaxis básica del bucle ```for``` es la siguiente:\n",
    "\n",
    "```algorithm\n",
    "    for <variable> <- <valor inicial> to <valor final>\n",
    "        <bloque de código>\n",
    "    endFor\n",
    "```\n",
    "\n",
    "Ejemplo de bucle ```for``` en el lenguaje java:\n",
    "```java\n",
    "    for (i = 1; i < 10; i += 1) {\n",
    "        <bloque de código que hace algo>\n",
    "    }\n",
    "```\n",
    "\n",
    "La sintaxis del bucle ```for``` en python es:\n",
    "```python\n",
    "    for <variable de iteración> in <secuencia de valores a iterar>:\n",
    "        <bloque de código>\n",
    "```"
   ]
  },
  {
   "cell_type": "code",
   "execution_count": 53,
   "metadata": {},
   "outputs": [
    {
     "name": "stdout",
     "output_type": "stream",
     "text": [
      "1\n",
      "2\n",
      "3\n",
      "4\n",
      "5\n"
     ]
    }
   ],
   "source": [
    "for i in [1, 2, 3, 4, 5]:\n",
    "    print(i)"
   ]
  },
  {
   "cell_type": "markdown",
   "metadata": {},
   "source": [
    "#### Función ```range```\n",
    "\n",
    "La función ```range()``` en Python es una herramienta fundamental para generar secuencias de números enteros de manera eficiente. Se utiliza principalmente en conjunto con bucles ```for``` para iterar sobre una secuencia de números.\n",
    "\n",
    "La sintaxis básica de la función ```range()``` es la siguiente:\n",
    "\n",
    "```python\n",
    "    range(<inicio>, <fin>, <incremento>)\n",
    "```\n",
    "\n",
    "donde:\n",
    "\n",
    "- inicio (opcional): Especifica el valor inicial de la secuencia. Por defecto, es 0.\n",
    "- fin (opcional): Especifica el valor final de la secuencia. No se incluye en la secuencia. Por defecto, es el valor del inicio más el incremento.\n",
    "- incremento (opcional): Especifica la diferencia entre los números consecutivos de la secuencia. Por defecto, es 1."
   ]
  },
  {
   "cell_type": "code",
   "execution_count": 54,
   "metadata": {},
   "outputs": [
    {
     "name": "stdout",
     "output_type": "stream",
     "text": [
      "1\n",
      "3\n",
      "5\n",
      "7\n",
      "9\n"
     ]
    }
   ],
   "source": [
    "for i in range(1, 10, 2):\n",
    "    print(i)"
   ]
  },
  {
   "cell_type": "code",
   "execution_count": 55,
   "metadata": {},
   "outputs": [
    {
     "name": "stdout",
     "output_type": "stream",
     "text": [
      "hola\n",
      "Hola\n",
      "hola\n",
      "HOLA\n",
      "chicos\n",
      "Chicos\n",
      "chicos\n",
      "CHICOS\n",
      "de\n",
      "De\n",
      "de\n",
      "DE\n",
      "ambientales\n",
      "Ambientales\n",
      "ambientales\n",
      "AMBIENTALES\n"
     ]
    }
   ],
   "source": [
    "for string in [\"hola\", \"chicos\", \"de\", \"ambientales\"]:\n",
    "    print(string)\n",
    "    print(string.title())\n",
    "    print(string.lower())\n",
    "    print(string.upper())"
   ]
  },
  {
   "metadata": {},
   "cell_type": "markdown",
   "source": [
    "## 3. Funciones\n",
    "\n",
    "### Definición y llamada de funciones\n",
    "\n",
    "Las funciones son bloques de código con nombre **definidos** para realizar un trabajo específico. Cuando quieras realizar una tarea concreta que hayas definido en una función, *llama* a la función responsable de ella. Si necesitas realizar esa tarea varias veces a lo largo de tu programa, no necesitas escribir todo el código para la misma tarea una y otra vez; simplemente llamas a la función dedicada a manejar esa tarea, y la *llamada* le dice a Python que ejecute el código dentro de la función. El uso de funciones hace que tus programas sean más **fáciles de escribir, leer, probar y corregir**.\n",
    "\n",
    "La sintaxis general de una función es la siguiente:\n",
    "\n",
    "```algorithm\n",
    "    Function <tipo_de_dato_de_retorno> <- <nombre_de_la_función>(<lista_de_parámetros>)\n",
    "\n",
    "        <bloque_de_código>\n",
    "\n",
    "    endFunction\n",
    "\n",
    "```\n",
    "\n",
    "En python la sintaxis para definir una función es:\n",
    "```python\n",
    "    def <nombre_de_la_función> (<Lista_de_parámetros>):\n",
    "        <bloque_de_código>\n",
    "```\n",
    "\n",
    "Así se define una función en el lenguaje de Rust:\n",
    "```rust\n",
    "    fn <nombre_de_la_función>(<Lista_de_parámetros>) -> <tipo_de_dato_de_retorno> {\n",
    "        <bloque_de_código>\n",
    "    }\n",
    "```\n",
    "Para el lenguaje de programación C se usa la siguiente sintaxis:\n",
    "```c\n",
    "    <tipo_de_dato_de_retorno> <nombre_de_la_función>(<lista_de_parámetros>)\n",
    "    {\n",
    "        <bloque_de_código>\n",
    "    }\n",
    "```"
   ]
  },
  {
   "metadata": {
    "ExecuteTime": {
     "end_time": "2025-09-05T20:56:43.551415Z",
     "start_time": "2025-09-05T20:56:43.547115Z"
    }
   },
   "cell_type": "code",
   "source": [
    "# Ejemplo de definición de funciones\n",
    "import math\n",
    "\n",
    "def funcion_para_saludar():\n",
    "    print(\"Hola chicos de ambientales, soy una función\")\n",
    "\n",
    "def funcion_para_saludar_con_argumentos(pon_tu_nombre_aqui):\n",
    "    print(f\"Muchos gusto {pon_tu_nombre_aqui}, te saluda una función\")\n",
    "\n",
    "def calcular_terna_pitagorica(numero_natural_1, numero_natural_2):\n",
    "    valor_a = math.pow(numero_natural_1, 2) - math.pow(numero_natural_2, 2)\n",
    "    valor_b = 2.0 * numero_natural_1 * numero_natural_2\n",
    "    valor_c = math.pow(numero_natural_1, 2) + math.pow(numero_natural_2, 2)\n",
    "    print(f\"La terna pitagórica formada por los números naturales {numero_natural_1} y {numero_natural_2} es\")\n",
    "    print(f\"({valor_a}, {valor_b}, {valor_c})\")"
   ],
   "outputs": [],
   "execution_count": 1
  },
  {
   "metadata": {},
   "cell_type": "code",
   "outputs": [
    {
     "name": "stdout",
     "output_type": "stream",
     "text": [
      "Hola chicos de ambientales, soy una función\n",
      "Muchos gusto Edwin, te saluda una función\n",
      "La terna pitagórica formada por los números naturales 5 y 3 es\n",
      "(16.0, 30.0, 34.0)\n"
     ]
    }
   ],
   "execution_count": 57,
   "source": [
    "funcion_para_saludar()\n",
    "funcion_para_saludar_con_argumentos(\"Edwin\")\n",
    "calcular_terna_pitagorica(5, 3)"
   ]
  },
  {
   "metadata": {},
   "cell_type": "markdown",
   "source": [
    "### Parámetros y argumentos\n",
    "\n",
    "En programación, los **parámetros** y los **argumentos** son conceptos fundamentales para entender el funcionamiento de las funciones. Si bien están estrechamente relacionados, tienen roles y características distintivas.\n",
    "\n",
    "Parámetros: Los parámetros son las variables que se definen en la declaración de una función. Son como espacios reservados que esperan recibir valores cuando la función sea llamada. Se encuentran dentro de los paréntesis cuando se define la función.\n",
    "\n",
    "Argumentos: Los argumentos son los valores que se pasan a una función cuando esta es llamada. Son los valores que se \"llenan\" en los espacios reservados de los parámetros. Se encuentran en los paréntesis cuando se llama a la función."
   ]
  },
  {
   "metadata": {},
   "cell_type": "markdown",
   "source": [
    "### Paso de argumentos.\n",
    "\n",
    "Existen dos formas principales de pasar argumentos a una función:\n",
    "\n",
    "- **Paso por valor**: En este caso, se copia el valor del argumento a la variable del parámetro dentro de la función. Cualquier modificación que se haga a la variable del parámetro dentro de la función no afecta al valor original del argumento.\n",
    "\n",
    "- **Paso por referencia**: En este caso, se pasa la referencia (dirección de memoria) de la variable del argumento a la variable del parámetro dentro de la función. Cualquier modificación que se haga a la variable del parámetro dentro de la función también modifica el valor original del argumento."
   ]
  },
  {
   "metadata": {},
   "cell_type": "code",
   "outputs": [
    {
     "name": "stdout",
     "output_type": "stream",
     "text": [
      "5\n",
      "5\n"
     ]
    }
   ],
   "execution_count": 58,
   "source": [
    "variable = 5\n",
    "def modificar_valor(variable):\n",
    "    variable *= 2\n",
    "# ---------------------------------\n",
    "print(variable)\n",
    "modificar_valor(variable)\n",
    "print(variable)"
   ]
  },
  {
   "metadata": {},
   "cell_type": "code",
   "outputs": [
    {
     "name": "stdout",
     "output_type": "stream",
     "text": [
      "[1, 2, 3]\n",
      "[2, 4, 6]\n"
     ]
    }
   ],
   "execution_count": 59,
   "source": [
    "list = [1, 2, 3]\n",
    "def modificar_valor(list):\n",
    "    for i in range(3):\n",
    "        list[i] *= 2\n",
    "# ---------------------------------\n",
    "print(list)\n",
    "modificar_valor(list)\n",
    "print(list)"
   ]
  },
  {
   "metadata": {},
   "cell_type": "code",
   "outputs": [],
   "execution_count": 60,
   "source": [
    "# list = [1, 2, 3]\n",
    "# for i in range(len(list)):\n",
    "#     print(list[i])\n",
    "\n",
    "# for i,n in enumerate(list):\n",
    "#     print(f\"i = {i} y n = {n}.\")"
   ]
  },
  {
   "metadata": {},
   "cell_type": "markdown",
   "source": [
    "### Recuperación de valores\n",
    "\n",
    "Una función no siempre tiene que mostrar su salida directamente. En su lugar, puede procesar algunos datos y luego devolver un valor o conjunto de valores. El valor que devuelve la función se denomina **valor de retorno**. La sentencia ```return``` toma un valor del interior de una función y lo devuelve a la línea que llamó a la función. Los valores de retorno le permiten mover gran parte del trabajo pesado de su programa a las funciones, lo que puede simplificar el cuerpo de su programa.\n",
    "\n",
    "Cuando se llama a una función que devuelve un valor, es necesario proporcionar una variable a la que se pueda asignar el valor devuelto."
   ]
  },
  {
   "metadata": {},
   "cell_type": "code",
   "outputs": [],
   "execution_count": 63,
   "source": [
    "def obtener_saludo():\n",
    "    saludo = \"Hola chicos de la ENES, soy una función\"\n",
    "    return saludo\n",
    "\n",
    "def obtener_saludo_para(nombre):\n",
    "    saludo = f\"Muchos gusto {nombre}, te saluda una función\"\n",
    "    return saludo\n",
    "\n",
    "def obtener_terna_pitagorica(numero_natural_1, numero_natural_2):\n",
    "    valor_a = math.pow(numero_natural_1, 2) - math.pow(numero_natural_2, 2)\n",
    "    valor_b = 2.0 * numero_natural_1 * numero_natural_2\n",
    "    valor_c = math.pow(numero_natural_1, 2) + math.pow(numero_natural_2, 2)\n",
    "    return valor_a, valor_b, valor_c"
   ]
  },
  {
   "metadata": {},
   "cell_type": "code",
   "outputs": [
    {
     "name": "stdout",
     "output_type": "stream",
     "text": [
      "Hola chicos de la ENES, soy una función\n"
     ]
    }
   ],
   "execution_count": 64,
   "source": [
    "saludo_obtenido = obtener_saludo()\n",
    "print(saludo_obtenido)"
   ]
  },
  {
   "metadata": {},
   "cell_type": "code",
   "outputs": [
    {
     "name": "stdout",
     "output_type": "stream",
     "text": [
      "Muchos gusto Andrea, te saluda una función\n"
     ]
    }
   ],
   "execution_count": 65,
   "source": [
    "saludo_especial = obtener_saludo_para(\"Andrea\")\n",
    "print(saludo_especial)"
   ]
  },
  {
   "metadata": {},
   "cell_type": "code",
   "outputs": [
    {
     "name": "stdout",
     "output_type": "stream",
     "text": [
      "La terna pitagórica formada por los números naturales 5 y 3 es\n",
      "(16.0, 30.0, 34.0)\n"
     ]
    }
   ],
   "execution_count": 66,
   "source": [
    "numero_natural_1 = 5\n",
    "numero_natural_2 = 3\n",
    "valor_1, valor_2, valor_3 = obtener_terna_pitagorica(numero_natural_1, numero_natural_2)\n",
    "\n",
    "print(f\"La terna pitagórica formada por los números naturales {numero_natural_1} y {numero_natural_2} es\")\n",
    "print(f\"({valor_1}, {valor_2}, {valor_3})\")"
   ]
  },
  {
   "cell_type": "markdown",
   "metadata": {},
   "source": [
    "## Estructura de datos\n",
    "\n",
    "Las estructuras de datos son la base fundamental para organizar y almacenar información en un programa. La elección de la estructura de datos adecuada es crucial para el rendimiento y la eficiencia de un programa. \n",
    "\n",
    "Existen dos tipos principales de estructuras de datos:\n",
    "\n",
    "1. Estructuras de datos lineales:\n",
    "\n",
    "    - Arreglos (Arrays): Un arreglo es una colección de elementos del mismo tipo almacenados en posiciones contiguas de memoria. Se accede a cada elemento mediante un índice numérico. Los arreglos son estructuras de datos estáticas, lo que significa que su tamaño se define en tiempo de compilación y no se puede modificar durante la ejecución del programa.\n",
    "\n",
    "    - Listas enlazadas: Una lista enlazada es una colección de elementos, llamados nodos, conectados entre sí por punteros. Cada nodo contiene un valor y un puntero al siguiente nodo en la lista. Las listas enlazadas son estructuras de datos dinámicas, lo que significa que su tamaño puede cambiar durante la ejecución del programa.\n",
    "\n",
    "    - Pilas (Stacks): Una pila es una estructura de datos LIFO (Last In, First Out). Esto significa que el último elemento agregado a la pila es el primero en ser eliminado. Las pilas se utilizan comúnmente para implementar algoritmos de retroceso y deshacer.\n",
    "\n",
    "    - Colas (Queues): Una cola es una estructura de datos FIFO (First In, First Out). Esto significa que el primer elemento agregado a la cola es el primero en ser eliminado. Las colas se utilizan comúnmente para implementar sistemas de búfer y tareas de procesamiento por orden de llegada.\n",
    "\n",
    "2. Estructuras de datos no lineales:\n",
    "\n",
    "    - Árboles: Un árbol es una estructura de datos jerárquica que consiste en un nodo raíz, conectado a cero o más nodos secundarios. Cada nodo puede tener cero o más hijos. Los árboles se utilizan comúnmente para representar datos jerárquicos, como sistemas de archivos y árboles de expresión.\n",
    "\n",
    "    - Grafos: Un grafo es una estructura de datos que consiste en un conjunto de nodos (vértices) y un conjunto de aristas que conectan pares de nodos. Los grafos se utilizan comúnmente para representar relaciones entre entidades, como redes sociales y mapas de carreteras.\n",
    "\n",
    "    - Tablas hash: Una tabla hash es una estructura de datos que asocia claves con valores. La clave se utiliza para calcular un índice en la tabla, donde se almacena el valor correspondiente. Las tablas hash son muy eficientes para buscar y almacenar datos."
   ]
  },
  {
   "cell_type": "markdown",
   "metadata": {},
   "source": "##"
  },
  {
   "metadata": {},
   "cell_type": "markdown",
   "source": "# Gráficas"
  },
  {
   "cell_type": "code",
   "execution_count": 96,
   "metadata": {},
   "outputs": [],
   "source": [
    "import matplotlib.pyplot as plt\n",
    "import numpy as np\n",
    "import pandas as pd"
   ]
  },
  {
   "cell_type": "markdown",
   "metadata": {},
   "source": [
    "$f(x) = \\sqrt{2x-3}$\n",
    "$2x-3 > 0$"
   ]
  },
  {
   "cell_type": "code",
   "execution_count": 97,
   "metadata": {},
   "outputs": [],
   "source": [
    "def fun1(x):\n",
    "    return np.sqrt(2*x-3)"
   ]
  },
  {
   "cell_type": "code",
   "execution_count": 98,
   "metadata": {},
   "outputs": [],
   "source": [
    "fun2 = lambda x: np.sqrt(2*x-3)"
   ]
  },
  {
   "cell_type": "code",
   "execution_count": 99,
   "metadata": {},
   "outputs": [
    {
     "data": {
      "text/plain": [
       "2.23606797749979"
      ]
     },
     "execution_count": 99,
     "metadata": {},
     "output_type": "execute_result"
    }
   ],
   "source": [
    "fun1(4)"
   ]
  },
  {
   "cell_type": "code",
   "execution_count": 100,
   "metadata": {},
   "outputs": [
    {
     "data": {
      "text/plain": [
       "2.23606797749979"
      ]
     },
     "execution_count": 100,
     "metadata": {},
     "output_type": "execute_result"
    }
   ],
   "source": [
    "fun2(4)"
   ]
  },
  {
   "cell_type": "code",
   "execution_count": 101,
   "metadata": {},
   "outputs": [],
   "source": [
    "dom = np.linspace(3/2,50,100)\n",
    "img = fun1(dom)"
   ]
  },
  {
   "cell_type": "code",
   "execution_count": 8,
   "metadata": {},
   "outputs": [
    {
     "data": {
      "text/plain": [
       "array([ 1.5       ,  1.98989899,  2.47979798,  2.96969697,  3.45959596,\n",
       "        3.94949495,  4.43939394,  4.92929293,  5.41919192,  5.90909091,\n",
       "        6.3989899 ,  6.88888889,  7.37878788,  7.86868687,  8.35858586,\n",
       "        8.84848485,  9.33838384,  9.82828283, 10.31818182, 10.80808081,\n",
       "       11.2979798 , 11.78787879, 12.27777778, 12.76767677, 13.25757576,\n",
       "       13.74747475, 14.23737374, 14.72727273, 15.21717172, 15.70707071,\n",
       "       16.1969697 , 16.68686869, 17.17676768, 17.66666667, 18.15656566,\n",
       "       18.64646465, 19.13636364, 19.62626263, 20.11616162, 20.60606061,\n",
       "       21.0959596 , 21.58585859, 22.07575758, 22.56565657, 23.05555556,\n",
       "       23.54545455, 24.03535354, 24.52525253, 25.01515152, 25.50505051,\n",
       "       25.99494949, 26.48484848, 26.97474747, 27.46464646, 27.95454545,\n",
       "       28.44444444, 28.93434343, 29.42424242, 29.91414141, 30.4040404 ,\n",
       "       30.89393939, 31.38383838, 31.87373737, 32.36363636, 32.85353535,\n",
       "       33.34343434, 33.83333333, 34.32323232, 34.81313131, 35.3030303 ,\n",
       "       35.79292929, 36.28282828, 36.77272727, 37.26262626, 37.75252525,\n",
       "       38.24242424, 38.73232323, 39.22222222, 39.71212121, 40.2020202 ,\n",
       "       40.69191919, 41.18181818, 41.67171717, 42.16161616, 42.65151515,\n",
       "       43.14141414, 43.63131313, 44.12121212, 44.61111111, 45.1010101 ,\n",
       "       45.59090909, 46.08080808, 46.57070707, 47.06060606, 47.55050505,\n",
       "       48.04040404, 48.53030303, 49.02020202, 49.51010101, 50.        ])"
      ]
     },
     "execution_count": 8,
     "metadata": {},
     "output_type": "execute_result"
    }
   ],
   "source": [
    "dom"
   ]
  },
  {
   "cell_type": "code",
   "execution_count": 9,
   "metadata": {},
   "outputs": [
    {
     "data": {
      "text/plain": [
       "array([0.        , 0.98984745, 1.39985569, 1.71446608, 1.97969491,\n",
       "       2.21336619, 2.42462118, 2.6188902 , 2.79971138, 2.96954236,\n",
       "       3.13017249, 3.2829526 , 3.42893216, 3.56894575, 3.70367003,\n",
       "       3.8336627 , 3.95938981, 4.0812456 , 4.19956708, 4.31464502,\n",
       "       4.42673238, 4.53605088, 4.64279609, 4.74714162, 4.84924237,\n",
       "       4.94923726, 5.04725148, 5.14339824, 5.23778039, 5.33049167,\n",
       "       5.42161778, 5.51123737, 5.59942277, 5.6862407 , 5.77175288,\n",
       "       5.8560165 , 5.93908472, 6.021007  , 6.1018295 , 6.18159536,\n",
       "       6.26034497, 6.33811622, 6.41494467, 6.49086382, 6.5659052 ,\n",
       "       6.64009858, 6.71347206, 6.78605224, 6.85786432, 6.92893217,\n",
       "       6.99927846, 7.06892474, 7.13789149, 7.20619823, 7.27386355,\n",
       "       7.34090518, 7.40734007, 7.47318438, 7.53845361, 7.60316255,\n",
       "       7.6673254 , 7.73095575, 7.79406664, 7.85667059, 7.91877962,\n",
       "       7.9804053 , 8.04155872, 8.10225059, 8.1624912 , 8.22229047,\n",
       "       8.28165796, 8.34060289, 8.39913415, 8.45726034, 8.51498975,\n",
       "       8.5723304 , 8.62929003, 8.68587615, 8.742096  , 8.7979566 ,\n",
       "       8.85346477, 8.90862708, 8.96344991, 9.01793947, 9.07210176,\n",
       "       9.1259426 , 9.17946765, 9.2326824 , 9.28559218, 9.33820219,\n",
       "       9.39051746, 9.44254289, 9.49428323, 9.54574314, 9.59692712,\n",
       "       9.64783956, 9.69848473, 9.74886681, 9.79898985, 9.8488578 ])"
      ]
     },
     "execution_count": 9,
     "metadata": {},
     "output_type": "execute_result"
    }
   ],
   "source": [
    "img"
   ]
  },
  {
   "cell_type": "code",
   "execution_count": 103,
   "metadata": {},
   "outputs": [
    {
     "data": {
      "image/png": "[encoded data removed]",
      "text/plain": [
       "<Figure size 1000x700 with 1 Axes>"
      ]
     },
     "metadata": {},
     "output_type": "display_data"
    }
   ],
   "source": [
    "# Gráfica en 2D\n",
    "plt.figure(figsize=(10, 7))\n",
    "# plt.plot(dom,img)\n",
    "# plt.plot(dom,img, label='f(x)=sqrt(2x-3)')\n",
    "# plt.plot(dom,img, label='Función raíz cuadrada', color='#42BCF5', linewidth=1.2)\n",
    "plt.plot(dom,img, '4' ,label='Función raíz cuadrada', color='red')\n",
    "\n",
    "# Detalles de la gráfica\n",
    "plt.xlabel('Dominio de la función')\n",
    "plt.ylabel('Imagen de la función')\n",
    "plt.title('Gráfica de la función sqrt(2*x-3)')\n",
    "plt.legend(loc='center')\n",
    "plt.grid()\n",
    "plt.axhline(1, color='blue',linewidth=1)\n",
    "plt.axvline(2, color='green',linewidth=1)\n",
    "plt.axhline(5, color='blue',linewidth=1)\n",
    "plt.axvline(7, color='green',linewidth=1)\n",
    "plt.savefig('../imagenes_notebook//funraiz.png')\n",
    "nombre = '../imagenes_notebook/fun2.png'\n",
    "plt.savefig(nombre)"
   ]
  },
  {
   "cell_type": "code",
   "execution_count": 104,
   "metadata": {},
   "outputs": [
    {
     "data": {
      "text/plain": [
       "<Figure size 640x480 with 0 Axes>"
      ]
     },
     "metadata": {},
     "output_type": "display_data"
    }
   ],
   "source": [
    "tex = 'imagen'\n",
    "num = str(2)\n",
    "completo = '../imagenes_notebook/' + tex + num\n",
    "completo\n",
    "plt.savefig(completo)"
   ]
  },
  {
   "cell_type": "code",
   "execution_count": 105,
   "metadata": {},
   "outputs": [],
   "source": [
    "x = np.linspace(0,10,85)\n",
    "y1 = np.cos(x)\n",
    "y2 = np.sin(x)"
   ]
  },
  {
   "cell_type": "code",
   "execution_count": 106,
   "metadata": {},
   "outputs": [
    {
     "data": {
      "text/plain": [
       "[<matplotlib.lines.Line2D at 0x7e91f9cbd310>]"
      ]
     },
     "execution_count": 106,
     "metadata": {},
     "output_type": "execute_result"
    },
    {
     "data": {
      "image/png": "[encoded data removed]",
      "text/plain": [
       "<Figure size 640x480 with 1 Axes>"
      ]
     },
     "metadata": {},
     "output_type": "display_data"
    }
   ],
   "source": [
    "plt.plot(x,y1)\n",
    "# plt.figure()\n",
    "plt.plot(x,y2)"
   ]
  }
 ],
 "metadata": {
  "kernelspec": {
   "display_name": "taller-python",
   "language": "python",
   "name": "python3"
  },
  "language_info": {
   "codemirror_mode": {
    "name": "ipython",
    "version": 3
   },
   "file_extension": ".py",
   "mimetype": "text/x-python",
   "name": "python",
   "nbconvert_exporter": "python",
   "pygments_lexer": "ipython3",
   "version": "3.11.11"
  }
 },
 "nbformat": 4,
 "nbformat_minor": 4
}
